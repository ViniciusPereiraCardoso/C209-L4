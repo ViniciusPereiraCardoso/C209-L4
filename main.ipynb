{
 "cells": [
  {
   "cell_type": "markdown",
   "id": "6c9b7cc0",
   "metadata": {},
   "source": [
    "================> Trabalho 2 - C209-L4 <=================\n",
    "=   Aluno: Vinicius Pereira Cardoso dos Santos - 345    =\n",
    "========================================================="
   ]
  },
  {
   "cell_type": "markdown",
   "id": "ca88501c",
   "metadata": {},
   "source": [
    "Importando bibliotecas que irei utilizar no projeto:"
   ]
  },
  {
   "cell_type": "code",
   "execution_count": 18,
   "id": "d780ace9",
   "metadata": {},
   "outputs": [],
   "source": [
    "import sounddevice as sd\n",
    "import matplotlib.pyplot as plt\n",
    "import numpy as np\n",
    "import moviepy.editor as mpe\n",
    "\n",
    "from scipy.io import wavfile\n",
    "from moviepy.editor import VideoFileClip, AudioFileClip, concatenate_videoclips, vfx, CompositeAudioClip"
   ]
  },
  {
   "cell_type": "markdown",
   "id": "89789ada",
   "metadata": {},
   "source": [
    "Executando video original (Sem audio):"
   ]
  },
  {
   "cell_type": "code",
   "execution_count": null,
   "id": "bb165a8c",
   "metadata": {},
   "outputs": [],
   "source": [
    "video = mpe.VideoFileClip(\"HalloweenOriginal.mp4\")\n",
    "video.ipython_display(width=480, maxduration=190)"
   ]
  },
  {
   "cell_type": "markdown",
   "id": "06d4d622",
   "metadata": {},
   "source": [
    "Cortando o vídeo original, para ficar do mesma duração do audio original:"
   ]
  },
  {
   "cell_type": "code",
   "execution_count": null,
   "id": "cd0b65c7",
   "metadata": {},
   "outputs": [],
   "source": [
    "videoCortado = video.subclip(0, 168)\n",
    "videoCortado.ipython_display(width=480, maxduration=190)"
   ]
  },
  {
   "cell_type": "markdown",
   "id": "b156c748",
   "metadata": {},
   "source": [
    "Salvando video cortado:"
   ]
  },
  {
   "cell_type": "code",
   "execution_count": null,
   "id": "0d8d48ad",
   "metadata": {},
   "outputs": [],
   "source": [
    "videoCortado.write_videofile(\"HalloweenCortado.mp4\")"
   ]
  },
  {
   "cell_type": "markdown",
   "id": "6893aa51",
   "metadata": {},
   "source": [
    "Adicionando o audio original para o video cortado:"
   ]
  },
  {
   "cell_type": "code",
   "execution_count": null,
   "id": "6ccde75d",
   "metadata": {},
   "outputs": [],
   "source": [
    "videoComAudio = videoCortado.set_audio(AudioFileClip(\"AudioOriginal.wav\"))\n",
    "videoComAudio.write_videofile(\"HalloweenComAudio.mp4\")"
   ]
  },
  {
   "cell_type": "markdown",
   "id": "ee2da8ef",
   "metadata": {},
   "source": [
    "Gerando vídeo com audio:"
   ]
  },
  {
   "cell_type": "code",
   "execution_count": null,
   "id": "82a9f28e",
   "metadata": {},
   "outputs": [],
   "source": [
    "videoComAudio.ipython_display(width=480, maxduration=190)"
   ]
  },
  {
   "cell_type": "markdown",
   "id": "63bd5668",
   "metadata": {},
   "source": [
    "Invertendo a imagem do vídeo a cada 20 segundos:"
   ]
  },
  {
   "cell_type": "code",
   "execution_count": null,
   "id": "a7d2a3e4",
   "metadata": {},
   "outputs": [],
   "source": [
    "def invertendoImagem(get_frame, t):\n",
    "    frame = get_frame(t)\n",
    "    if (int(t) // 20) % 2 == 1:\n",
    "        return frame[:, ::-1]\n",
    "    return frame\n",
    "\n",
    "videoInvertendo = videoComAudio.fl(invertendoImagem)\n",
    "\n",
    "videoInvertendo.write_videofile(\"HalloweenInvertendo.mp4\")\n",
    "\n",
    "videoInvertendo.ipython_display(width=480, maxduration=190)\n",
    "\n"
   ]
  },
  {
   "cell_type": "markdown",
   "id": "b0fcfcdc",
   "metadata": {},
   "source": [
    "Diminuindo volume a cada 30 segundos"
   ]
  },
  {
   "cell_type": "code",
   "execution_count": null,
   "id": "0d1617e6",
   "metadata": {},
   "outputs": [],
   "source": [
    "def decrease(get_frame, t):\n",
    "    # Define a redução de volume a cada 30s\n",
    "    step_duration = 30\n",
    "    decay_per_step = 0.2\n",
    "\n",
    "    # Número de intervalos de 30s completos passados\n",
    "    step_count = int(t // step_duration)\n",
    "\n",
    "    # Calcula volume atual (não deixa menor que 0.0)\n",
    "    volume = max(1.0 - (decay_per_step * step_count), 0.0)\n",
    "\n",
    "    # Obtém o frame de áudio no tempo t\n",
    "    frame = get_frame(t)\n",
    "\n",
    "    # Garante que frame é um array numpy\n",
    "    frame = np.array(frame)\n",
    "\n",
    "    # Aplica o volume ao frame (funciona para mono ou estéreo)\n",
    "    frame = frame * volume\n",
    "\n",
    "    return frame\n",
    "\n",
    "\n",
    "\n",
    "videoInvertendo = mpe.VideoFileClip(\"HalloweenInvertendo.mp4\")\n",
    "\n",
    "# Aplica a função personalizada ao áudio\n",
    "audio_modificado = videoInvertendo.audio.fl(decrease)\n",
    "\n",
    "# Substitui o áudio no vídeo\n",
    "video_modificado = videoInvertendo.set_audio(audio_modificado)\n",
    "\n",
    "# Exporta\n",
    "video_modificado.write_videofile(\"HalloweenVolumeDecrescendo.mp4\")\n",
    "video_modificado.ipython_display(width=480, maxduration=190)\n",
    "\n",
    "\n"
   ]
  },
  {
   "cell_type": "markdown",
   "id": "2c89081b",
   "metadata": {},
   "source": [
    "Cortando vídeo e dps juntando:"
   ]
  },
  {
   "cell_type": "code",
   "execution_count": null,
   "id": "ab01c9fc",
   "metadata": {},
   "outputs": [],
   "source": [
    "# Partes antes de 60s\n",
    "before_cut = video_modificado.subclip(0, 60)\n",
    "\n",
    "# Parte entre 80s e o final\n",
    "after_cut = video_modificado.subclip(80, video.duration)\n",
    "\n",
    "# Parte cortada (60s a 80s) - será usada depois\n",
    "cut_part = video_modificado.subclip(60, 80)\n",
    "\n",
    "# Reorganiza vídeo com parte cortada no final\n",
    "final_video = concatenate_videoclips([before_cut, after_cut, cut_part])\n",
    "final_video.write_videofile(\"HalloweenFinal.mp4\")\n"
   ]
  }
 ],
 "metadata": {
  "kernelspec": {
   "display_name": "Python 3",
   "language": "python",
   "name": "python3"
  },
  "language_info": {
   "codemirror_mode": {
    "name": "ipython",
    "version": 3
   },
   "file_extension": ".py",
   "mimetype": "text/x-python",
   "name": "python",
   "nbconvert_exporter": "python",
   "pygments_lexer": "ipython3",
   "version": "3.13.2"
  }
 },
 "nbformat": 4,
 "nbformat_minor": 5
}
